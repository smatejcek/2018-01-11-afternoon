{
 "cells": [
  {
   "cell_type": "code",
   "execution_count": 96,
   "metadata": {},
   "outputs": [],
   "source": [
    "import pandas as pd\n",
    "import numpy as np\n",
    "import matplotlib.pyplot as plt\n",
    "from sklearn.linear_model import LogisticRegression\n",
    "from sklearn.metrics import confusion_matrix\n",
    "from sklearn.model_selection import train_test_split\n",
    "from pandas.plotting import scatter_matrix\n",
    "from itertools import combinations\n",
    "from sklearn.model_selection import cross_val_score\n",
    "%matplotlib inline\n",
    "\n",
    "#df = pd.read_csv(\"mooc.csv\", index_col = 0)\n",
    "df = pd.read_csv(\"mooc.csv\")\n",
    "df[\"start_time_DI\"] = pd.to_datetime(df[\"start_time_DI\"])\n",
    "df[\"engaged\"] = (df[\"explored\"] == 1) | (df[\"certified\"] == 1)\n",
    "df[\"month\"] = df[\"start_time_DI\"].dt.month\n",
    "df[\"is_winter\"] = (df[\"month\"] == 12) | (df[\"month\"] <= 2)\n",
    "df[\"is_spring\"] = (df[\"month\"] >= 3) & (df[\"month\"] <= 5)\n",
    "df[\"is_summer\"] = (df[\"month\"] >= 6) & (df[\"month\"] <= 8)\n",
    "df[\"is_fall\"] = (df[\"month\"] >= 9) & (df[\"month\"] <= 11)\n",
    "df['gender'] = df[['gender']].fillna(value = 'o')\n",
    "df['is_male'] = df[\"gender\"].map({\"m\":1, \"f\":0, \"o\":0})\n",
    "df['is_female'] = df[\"gender\"].map({\"m\":0, \"f\":1, \"o\":0})\n",
    "df['is_other'] = df[\"gender\"].map({\"m\":0, \"f\":0, \"o\":1})\n",
    "replacements = {\"LoE_DI\":\"unknown\", \"YoB\":0, \"last_event_DI\":df.start_time_DI}\n",
    "df = df.fillna(value = replacements)\n",
    "\n",
    "#df = df.dropna()"
   ]
  },
  {
   "cell_type": "code",
   "execution_count": 83,
   "metadata": {},
   "outputs": [
    {
     "name": "stdout",
     "output_type": "stream",
     "text": [
      "<class 'pandas.core.frame.DataFrame'>\n",
      "RangeIndex: 641138 entries, 0 to 641137\n",
      "Data columns (total 29 columns):\n",
      "course_id            641138 non-null object\n",
      "userid_DI            641138 non-null object\n",
      "registered           641138 non-null int64\n",
      "viewed               641138 non-null int64\n",
      "explored             641138 non-null int64\n",
      "certified            641138 non-null int64\n",
      "final_cc_cname_DI    641138 non-null object\n",
      "LoE_DI               535130 non-null object\n",
      "YoB                  544533 non-null float64\n",
      "gender               641138 non-null object\n",
      "grade                592766 non-null object\n",
      "start_time_DI        641138 non-null datetime64[ns]\n",
      "last_event_DI        462184 non-null object\n",
      "nevents              441987 non-null float64\n",
      "ndays_act            478395 non-null float64\n",
      "nplay_video          183608 non-null float64\n",
      "nchapters            382385 non-null float64\n",
      "nforum_posts         641138 non-null int64\n",
      "roles                0 non-null float64\n",
      "incomplete_flag      100161 non-null float64\n",
      "engaged              641138 non-null bool\n",
      "month                641138 non-null int64\n",
      "is_winter            641138 non-null bool\n",
      "is_spring            641138 non-null bool\n",
      "is_summer            641138 non-null bool\n",
      "is_fall              641138 non-null bool\n",
      "is_male              641138 non-null int64\n",
      "is_female            641138 non-null int64\n",
      "is_other             641138 non-null int64\n",
      "dtypes: bool(5), datetime64[ns](1), float64(7), int64(9), object(7)\n",
      "memory usage: 120.5+ MB\n"
     ]
    }
   ],
   "source": [
    "df.info()"
   ]
  },
  {
   "cell_type": "code",
   "execution_count": 97,
   "metadata": {},
   "outputs": [
    {
     "data": {
      "text/plain": [
       "['course_id',\n",
       " 'userid_DI',\n",
       " 'registered',\n",
       " 'viewed',\n",
       " 'explored',\n",
       " 'certified',\n",
       " 'final_cc_cname_DI',\n",
       " 'LoE_DI',\n",
       " 'YoB',\n",
       " 'gender',\n",
       " 'grade',\n",
       " 'start_time_DI',\n",
       " 'last_event_DI',\n",
       " 'nevents',\n",
       " 'ndays_act',\n",
       " 'nplay_video',\n",
       " 'nchapters',\n",
       " 'nforum_posts',\n",
       " 'roles',\n",
       " 'incomplete_flag',\n",
       " 'engaged',\n",
       " 'month',\n",
       " 'is_winter',\n",
       " 'is_spring',\n",
       " 'is_summer',\n",
       " 'is_fall',\n",
       " 'is_male',\n",
       " 'is_female',\n",
       " 'is_other']"
      ]
     },
     "execution_count": 97,
     "metadata": {},
     "output_type": "execute_result"
    }
   ],
   "source": [
    "list(df)"
   ]
  },
  {
   "cell_type": "code",
   "execution_count": 41,
   "metadata": {},
   "outputs": [],
   "source": [
    "df[\"is_spring\"] = (df[\"month\"] >= 3) | (df[\"month\"] <= 5)"
   ]
  },
  {
   "cell_type": "code",
   "execution_count": 43,
   "metadata": {},
   "outputs": [],
   "source": [
    "df[\"is_winter\"] = (df[\"month\"] == 12) | (df[\"month\"] <= 2)"
   ]
  },
  {
   "cell_type": "code",
   "execution_count": 44,
   "metadata": {
    "collapsed": true
   },
   "outputs": [],
   "source": [
    "df[\"is_fall\"] = (df[\"month\"] >= 9) | (df[\"month\"] <= 11)"
   ]
  },
  {
   "cell_type": "code",
   "execution_count": 80,
   "metadata": {},
   "outputs": [
    {
     "name": "stdout",
     "output_type": "stream",
     "text": [
      "['course_id', 'userid_DI', 'registered', 'explored', 'certified', 'final_cc_cname_DI', 'LoE_DI', 'YoB', 'gender', 'engaged', 'month', 'is_winter', 'is_spring', 'is_summer', 'is_fall']\n"
     ]
    }
   ],
   "source": [
    "omit = [\"viewed\", \"grade\", \"start_time_DI\", \"last_event_DI\", \"nevents\", \"nplay_video\", \"ndays_act\", \"nchapters\", \"nforum_posts\",\n",
    "        \"roles\", \"incomplete_flag\"]\n",
    "columns = [c for c in list(df) if c not in omit]\n",
    "print(columns)"
   ]
  },
  {
   "cell_type": "code",
   "execution_count": 79,
   "metadata": {
    "scrolled": true
   },
   "outputs": [
    {
     "data": {
      "image/png": "[encoded data removed]",
      "text/plain": [
       "<matplotlib.figure.Figure at 0x2b7a8a90>"
      ]
     },
     "metadata": {},
     "output_type": "display_data"
    }
   ],
   "source": [
    "scatter_matrix(dfcolumns, figsize = (12, 12))\n",
    "None"
   ]
  },
  {
   "cell_type": "code",
   "execution_count": 101,
   "metadata": {},
   "outputs": [
    {
     "ename": "ValueError",
     "evalue": "could not convert string to float: 'HarvardX/PH207x/2012_Fall'",
     "output_type": "error",
     "traceback": [
      "\u001b[1;31m---------------------------------------------------------------------------\u001b[0m",
      "\u001b[1;31mValueError\u001b[0m                                Traceback (most recent call last)",
      "\u001b[1;32m<ipython-input-101-a08f8c205c4d>\u001b[0m in \u001b[0;36m<module>\u001b[1;34m()\u001b[0m\n\u001b[0;32m     11\u001b[0m         \u001b[0mX_train\u001b[0m\u001b[1;33m,\u001b[0m \u001b[0mX_test\u001b[0m\u001b[1;33m,\u001b[0m \u001b[0my_train\u001b[0m\u001b[1;33m,\u001b[0m \u001b[0my_test\u001b[0m \u001b[1;33m=\u001b[0m \u001b[0mtrain_test_split\u001b[0m\u001b[1;33m(\u001b[0m\u001b[0mX\u001b[0m\u001b[1;33m,\u001b[0m \u001b[0my\u001b[0m\u001b[1;33m,\u001b[0m \u001b[0mtest_size\u001b[0m \u001b[1;33m=\u001b[0m \u001b[1;36m0.33\u001b[0m\u001b[1;33m,\u001b[0m \u001b[0mrandom_state\u001b[0m \u001b[1;33m=\u001b[0m \u001b[1;36m42\u001b[0m\u001b[1;33m)\u001b[0m\u001b[1;33m\u001b[0m\u001b[0m\n\u001b[0;32m     12\u001b[0m         \u001b[1;32mfor\u001b[0m \u001b[0mj\u001b[0m \u001b[1;32min\u001b[0m \u001b[0mrange\u001b[0m\u001b[1;33m(\u001b[0m\u001b[1;36m2\u001b[0m\u001b[1;33m)\u001b[0m\u001b[1;33m:\u001b[0m\u001b[1;33m\u001b[0m\u001b[0m\n\u001b[1;32m---> 13\u001b[1;33m             \u001b[0mmodel\u001b[0m \u001b[1;33m=\u001b[0m \u001b[0mLogisticRegression\u001b[0m\u001b[1;33m(\u001b[0m\u001b[0mfit_intercept\u001b[0m \u001b[1;33m=\u001b[0m \u001b[1;32mFalse\u001b[0m\u001b[1;33m)\u001b[0m\u001b[1;33m.\u001b[0m\u001b[0mfit\u001b[0m\u001b[1;33m(\u001b[0m\u001b[0mX_train\u001b[0m\u001b[1;33m,\u001b[0m \u001b[0my_train\u001b[0m\u001b[1;33m)\u001b[0m\u001b[1;33m\u001b[0m\u001b[0m\n\u001b[0m\u001b[0;32m     14\u001b[0m             \u001b[0mscore\u001b[0m \u001b[1;33m=\u001b[0m \u001b[0mcross_val_score\u001b[0m\u001b[1;33m(\u001b[0m\u001b[0mmodel\u001b[0m\u001b[1;33m,\u001b[0m \u001b[0mX\u001b[0m\u001b[1;33m,\u001b[0m \u001b[0my\u001b[0m\u001b[1;33m,\u001b[0m \u001b[0mcv\u001b[0m \u001b[1;33m=\u001b[0m \u001b[1;36m10\u001b[0m\u001b[1;33m,\u001b[0m \u001b[0mscoring\u001b[0m \u001b[1;33m=\u001b[0m \u001b[1;34m\"accuracy\"\u001b[0m\u001b[1;33m)\u001b[0m\u001b[1;33m.\u001b[0m\u001b[0mmean\u001b[0m\u001b[1;33m(\u001b[0m\u001b[1;33m)\u001b[0m\u001b[1;33m\u001b[0m\u001b[0m\n\u001b[0;32m     15\u001b[0m             \u001b[0mresults\u001b[0m\u001b[1;33m.\u001b[0m\u001b[0mappend\u001b[0m\u001b[1;33m(\u001b[0m\u001b[1;33m[\u001b[0m\u001b[0mscore\u001b[0m\u001b[1;33m,\u001b[0m \u001b[1;34m\"Intercept: {}\"\u001b[0m\u001b[1;33m.\u001b[0m\u001b[0mformat\u001b[0m\u001b[1;33m(\u001b[0m\u001b[0mj\u001b[0m \u001b[1;33m==\u001b[0m \u001b[1;36m1\u001b[0m\u001b[1;33m)\u001b[0m\u001b[1;33m,\u001b[0m \u001b[0mc\u001b[0m\u001b[1;33m,\u001b[0m \u001b[1;34m\"Coef: {}\"\u001b[0m\u001b[1;33m.\u001b[0m\u001b[0mformat\u001b[0m\u001b[1;33m(\u001b[0m\u001b[0mmodel\u001b[0m\u001b[1;33m.\u001b[0m\u001b[0mcoef_\u001b[0m\u001b[1;33m)\u001b[0m\u001b[1;33m,\u001b[0m \u001b[1;34m\"Int: {}\"\u001b[0m\u001b[1;33m.\u001b[0m\u001b[0mformat\u001b[0m\u001b[1;33m(\u001b[0m\u001b[0mmodel\u001b[0m\u001b[1;33m.\u001b[0m\u001b[0mintercept_\u001b[0m\u001b[1;33m)\u001b[0m\u001b[1;33m]\u001b[0m\u001b[1;33m)\u001b[0m\u001b[1;33m\u001b[0m\u001b[0m\n",
      "\u001b[1;32m~\\AppData\\Local\\Continuum\\anaconda3\\lib\\site-packages\\sklearn\\linear_model\\logistic.py\u001b[0m in \u001b[0;36mfit\u001b[1;34m(self, X, y, sample_weight)\u001b[0m\n\u001b[0;32m   1214\u001b[0m \u001b[1;33m\u001b[0m\u001b[0m\n\u001b[0;32m   1215\u001b[0m         X, y = check_X_y(X, y, accept_sparse='csr', dtype=_dtype,\n\u001b[1;32m-> 1216\u001b[1;33m                          order=\"C\")\n\u001b[0m\u001b[0;32m   1217\u001b[0m         \u001b[0mcheck_classification_targets\u001b[0m\u001b[1;33m(\u001b[0m\u001b[0my\u001b[0m\u001b[1;33m)\u001b[0m\u001b[1;33m\u001b[0m\u001b[0m\n\u001b[0;32m   1218\u001b[0m         \u001b[0mself\u001b[0m\u001b[1;33m.\u001b[0m\u001b[0mclasses_\u001b[0m \u001b[1;33m=\u001b[0m \u001b[0mnp\u001b[0m\u001b[1;33m.\u001b[0m\u001b[0munique\u001b[0m\u001b[1;33m(\u001b[0m\u001b[0my\u001b[0m\u001b[1;33m)\u001b[0m\u001b[1;33m\u001b[0m\u001b[0m\n",
      "\u001b[1;32m~\\AppData\\Local\\Continuum\\anaconda3\\lib\\site-packages\\sklearn\\utils\\validation.py\u001b[0m in \u001b[0;36mcheck_X_y\u001b[1;34m(X, y, accept_sparse, dtype, order, copy, force_all_finite, ensure_2d, allow_nd, multi_output, ensure_min_samples, ensure_min_features, y_numeric, warn_on_dtype, estimator)\u001b[0m\n\u001b[0;32m    540\u001b[0m     X = check_array(X, accept_sparse, dtype, order, copy, force_all_finite,\n\u001b[0;32m    541\u001b[0m                     \u001b[0mensure_2d\u001b[0m\u001b[1;33m,\u001b[0m \u001b[0mallow_nd\u001b[0m\u001b[1;33m,\u001b[0m \u001b[0mensure_min_samples\u001b[0m\u001b[1;33m,\u001b[0m\u001b[1;33m\u001b[0m\u001b[0m\n\u001b[1;32m--> 542\u001b[1;33m                     ensure_min_features, warn_on_dtype, estimator)\n\u001b[0m\u001b[0;32m    543\u001b[0m     \u001b[1;32mif\u001b[0m \u001b[0mmulti_output\u001b[0m\u001b[1;33m:\u001b[0m\u001b[1;33m\u001b[0m\u001b[0m\n\u001b[0;32m    544\u001b[0m         y = check_array(y, 'csr', force_all_finite=True, ensure_2d=False,\n",
      "\u001b[1;32m~\\AppData\\Local\\Continuum\\anaconda3\\lib\\site-packages\\sklearn\\utils\\validation.py\u001b[0m in \u001b[0;36mcheck_array\u001b[1;34m(array, accept_sparse, dtype, order, copy, force_all_finite, ensure_2d, allow_nd, ensure_min_samples, ensure_min_features, warn_on_dtype, estimator)\u001b[0m\n\u001b[0;32m    400\u001b[0m                                       force_all_finite)\n\u001b[0;32m    401\u001b[0m     \u001b[1;32melse\u001b[0m\u001b[1;33m:\u001b[0m\u001b[1;33m\u001b[0m\u001b[0m\n\u001b[1;32m--> 402\u001b[1;33m         \u001b[0marray\u001b[0m \u001b[1;33m=\u001b[0m \u001b[0mnp\u001b[0m\u001b[1;33m.\u001b[0m\u001b[0marray\u001b[0m\u001b[1;33m(\u001b[0m\u001b[0marray\u001b[0m\u001b[1;33m,\u001b[0m \u001b[0mdtype\u001b[0m\u001b[1;33m=\u001b[0m\u001b[0mdtype\u001b[0m\u001b[1;33m,\u001b[0m \u001b[0morder\u001b[0m\u001b[1;33m=\u001b[0m\u001b[0morder\u001b[0m\u001b[1;33m,\u001b[0m \u001b[0mcopy\u001b[0m\u001b[1;33m=\u001b[0m\u001b[0mcopy\u001b[0m\u001b[1;33m)\u001b[0m\u001b[1;33m\u001b[0m\u001b[0m\n\u001b[0m\u001b[0;32m    403\u001b[0m \u001b[1;33m\u001b[0m\u001b[0m\n\u001b[0;32m    404\u001b[0m         \u001b[1;32mif\u001b[0m \u001b[0mensure_2d\u001b[0m\u001b[1;33m:\u001b[0m\u001b[1;33m\u001b[0m\u001b[0m\n",
      "\u001b[1;31mValueError\u001b[0m: could not convert string to float: 'HarvardX/PH207x/2012_Fall'"
     ]
    }
   ],
   "source": [
    "dependent = \"engaged\"\n",
    "omit = [\"viewed\", \"grade\", \"start_time_DI\", \"last_event_DI\", \"nevents\", \"nplay_video\", \"ndays_act\", \"nchapters\", \"nforum_posts\",\n",
    "        \"roles\", \"incomplete_flag\", \"final_cc_cname_DI\"]\n",
    "columns = [c for c in list(df) if c not in omit]\n",
    "results = []\n",
    "for i in range(1, len(columns) + 1):\n",
    "    combos = list(combinations(columns, i))\n",
    "    for c in combos:\n",
    "        y = df[dependent]\n",
    "        X = pd.DataFrame(df, columns = c) #Alternative assignment method\n",
    "        X_train, X_test, y_train, y_test = train_test_split(X, y, test_size = 0.33, random_state = 42)\n",
    "        for j in range(2):\n",
    "            model = LogisticRegression(fit_intercept = False).fit(X_train, y_train)\n",
    "            score = cross_val_score(model, X, y, cv = 10, scoring = \"accuracy\").mean()\n",
    "            results.append([score, \"Intercept: {}\".format(j == 1), c, \"Coef: {}\".format(model.coef_), \"Int: {}\".format(model.intercept_)])\n"
   ]
  },
  {
   "cell_type": "code",
   "execution_count": 99,
   "metadata": {},
   "outputs": [
    {
     "data": {
      "text/plain": [
       "['course_id',\n",
       " 'userid_DI',\n",
       " 'registered',\n",
       " 'explored',\n",
       " 'certified',\n",
       " 'final_cc_cname_DI',\n",
       " 'LoE_DI',\n",
       " 'YoB',\n",
       " 'gender',\n",
       " 'engaged',\n",
       " 'month',\n",
       " 'is_winter',\n",
       " 'is_spring',\n",
       " 'is_summer',\n",
       " 'is_fall',\n",
       " 'is_male',\n",
       " 'is_female',\n",
       " 'is_other']"
      ]
     },
     "execution_count": 99,
     "metadata": {},
     "output_type": "execute_result"
    }
   ],
   "source": [
    "columns"
   ]
  },
  {
   "cell_type": "code",
   "execution_count": 100,
   "metadata": {},
   "outputs": [
    {
     "data": {
      "text/plain": [
       "array(['United States', 'France', 'Unknown/Other', 'Mexico', 'Australia',\n",
       "       'India', 'Canada', 'Russian Federation', 'Other South Asia',\n",
       "       'Other North & Central Amer., Caribbean', 'Other Europe',\n",
       "       'Other Oceania', 'Japan', 'Other Africa', 'Colombia', 'Germany',\n",
       "       'Other Middle East/Central Asia', 'Poland', 'Indonesia',\n",
       "       'Other East Asia', 'Bangladesh', 'China', 'United Kingdom',\n",
       "       'Ukraine', 'Spain', 'Greece', 'Pakistan', 'Brazil', 'Nigeria',\n",
       "       'Egypt', 'Other South America', 'Portugal', 'Philippines', 'Morocco'], dtype=object)"
      ]
     },
     "execution_count": 100,
     "metadata": {},
     "output_type": "execute_result"
    }
   ],
   "source": [
    "df[\"final_cc_cname_DI\"].unique()"
   ]
  },
  {
   "cell_type": "code",
   "execution_count": null,
   "metadata": {
    "collapsed": true
   },
   "outputs": [],
   "source": []
  }
 ],
 "metadata": {
  "kernelspec": {
   "display_name": "Python 3",
   "language": "python",
   "name": "python3"
  },
  "language_info": {
   "codemirror_mode": {
    "name": "ipython",
    "version": 3
   },
   "file_extension": ".py",
   "mimetype": "text/x-python",
   "name": "python",
   "nbconvert_exporter": "python",
   "pygments_lexer": "ipython3",
   "version": "3.6.2"
  }
 },
 "nbformat": 4,
 "nbformat_minor": 2
}
